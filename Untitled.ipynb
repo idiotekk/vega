{
 "cells": [
  {
   "cell_type": "code",
   "execution_count": 2,
   "id": "f277cf1a-6fbf-494b-8465-6034feb5e8fe",
   "metadata": {},
   "outputs": [],
   "source": [
    "import pandas as pd"
   ]
  },
  {
   "cell_type": "code",
   "execution_count": 35,
   "id": "fad6e5df-1230-4041-8c48-012a29ec79e0",
   "metadata": {},
   "outputs": [
    {
     "data": {
      "text/plain": [
       "{'trader': '0x4d1778163dB0B9F75Cd0F4a27E229411783567b5',\n",
       " 'token_amount': -225196.63233338064,\n",
       " 'weth_amount': 0.10825,\n",
       " 'side': 1,\n",
       " 'price_weth': 4.80691024898396e-07,\n",
       " 'timestamp': '2023-09-24 13:41:29.636871440+00:00',\n",
       " 'timestamp_est': '2023-09-24 09:41:29.636871440-04:00',\n",
       " 'transactionHash': '0x780c466e78db494da3a292c9548f67b7d94af1ca83ac9efce280bc8160f8387b'}"
      ]
     },
     "execution_count": 35,
     "metadata": {},
     "output_type": "execute_result"
    }
   ],
   "source": [
    "df = pd.read_csv(\"/Users/zche/vega/data/token/swap/0x7586b7d149c92c894a2A4C584c6746f1e6A76A18.csv\")\n",
    "df.sort_values(price_var).iloc[-1].to_dict()"
   ]
  },
  {
   "cell_type": "code",
   "execution_count": 71,
   "id": "d90d0a76-027c-4b92-8a3b-0c00ad45478d",
   "metadata": {},
   "outputs": [
    {
     "data": {
      "text/plain": [
       "['0x7586b7d149c92c894a2A4C584c6746f1e6A76A18']"
      ]
     },
     "execution_count": 71,
     "metadata": {},
     "output_type": "execute_result"
    }
   ],
   "source": [
    "import os\n",
    "[_.replace(\".csv\", \"\") for _ in os.listdir(\"/Users/zche/vega/data/token/swap/\")]"
   ]
  },
  {
   "cell_type": "code",
   "execution_count": 36,
   "id": "7fa0ddf6-2032-41df-9ec0-9e5e448487a6",
   "metadata": {},
   "outputs": [
    {
     "data": {
      "text/html": [
       "<div>\n",
       "<style scoped>\n",
       "    .dataframe tbody tr th:only-of-type {\n",
       "        vertical-align: middle;\n",
       "    }\n",
       "\n",
       "    .dataframe tbody tr th {\n",
       "        vertical-align: top;\n",
       "    }\n",
       "\n",
       "    .dataframe thead th {\n",
       "        text-align: right;\n",
       "    }\n",
       "</style>\n",
       "<table border=\"1\" class=\"dataframe\">\n",
       "  <thead>\n",
       "    <tr style=\"text-align: right;\">\n",
       "      <th></th>\n",
       "      <th>open</th>\n",
       "      <th>close</th>\n",
       "      <th>high</th>\n",
       "      <th>low</th>\n",
       "    </tr>\n",
       "  </thead>\n",
       "  <tbody>\n",
       "    <tr>\n",
       "      <th>count</th>\n",
       "      <td>5.900000e+01</td>\n",
       "      <td>5.900000e+01</td>\n",
       "      <td>5.900000e+01</td>\n",
       "      <td>5.900000e+01</td>\n",
       "    </tr>\n",
       "    <tr>\n",
       "      <th>mean</th>\n",
       "      <td>1.085085e-07</td>\n",
       "      <td>1.136991e-07</td>\n",
       "      <td>1.397866e-07</td>\n",
       "      <td>9.958877e-08</td>\n",
       "    </tr>\n",
       "    <tr>\n",
       "      <th>std</th>\n",
       "      <td>7.701262e-08</td>\n",
       "      <td>7.957675e-08</td>\n",
       "      <td>1.014349e-07</td>\n",
       "      <td>7.326488e-08</td>\n",
       "    </tr>\n",
       "    <tr>\n",
       "      <th>min</th>\n",
       "      <td>5.003727e-09</td>\n",
       "      <td>8.894889e-09</td>\n",
       "      <td>9.869438e-09</td>\n",
       "      <td>5.003727e-09</td>\n",
       "    </tr>\n",
       "    <tr>\n",
       "      <th>25%</th>\n",
       "      <td>3.518817e-08</td>\n",
       "      <td>3.774784e-08</td>\n",
       "      <td>5.123958e-08</td>\n",
       "      <td>2.765280e-08</td>\n",
       "    </tr>\n",
       "    <tr>\n",
       "      <th>50%</th>\n",
       "      <td>9.462034e-08</td>\n",
       "      <td>1.031209e-07</td>\n",
       "      <td>1.256954e-07</td>\n",
       "      <td>8.934641e-08</td>\n",
       "    </tr>\n",
       "    <tr>\n",
       "      <th>75%</th>\n",
       "      <td>1.741924e-07</td>\n",
       "      <td>1.764361e-07</td>\n",
       "      <td>2.030046e-07</td>\n",
       "      <td>1.590268e-07</td>\n",
       "    </tr>\n",
       "    <tr>\n",
       "      <th>max</th>\n",
       "      <td>2.594278e-07</td>\n",
       "      <td>2.828902e-07</td>\n",
       "      <td>4.806910e-07</td>\n",
       "      <td>2.486531e-07</td>\n",
       "    </tr>\n",
       "  </tbody>\n",
       "</table>\n",
       "</div>"
      ],
      "text/plain": [
       "               open         close          high           low\n",
       "count  5.900000e+01  5.900000e+01  5.900000e+01  5.900000e+01\n",
       "mean   1.085085e-07  1.136991e-07  1.397866e-07  9.958877e-08\n",
       "std    7.701262e-08  7.957675e-08  1.014349e-07  7.326488e-08\n",
       "min    5.003727e-09  8.894889e-09  9.869438e-09  5.003727e-09\n",
       "25%    3.518817e-08  3.774784e-08  5.123958e-08  2.765280e-08\n",
       "50%    9.462034e-08  1.031209e-07  1.256954e-07  8.934641e-08\n",
       "75%    1.741924e-07  1.764361e-07  2.030046e-07  1.590268e-07\n",
       "max    2.594278e-07  2.828902e-07  4.806910e-07  2.486531e-07"
      ]
     },
     "execution_count": 36,
     "metadata": {},
     "output_type": "execute_result"
    }
   ],
   "source": [
    "freq = \"5min\"\n",
    "price_var = \"price_weth\"\n",
    "df[\"timestamp_freq\"] = pd.to_datetime(df[\"timestamp\"], format='ISO8601').round(freq)\n",
    "df_freq = df.groupby(\"timestamp_freq\").apply(\n",
    "    lambda x: pd.Series({\n",
    "        \"open\": x[price_var].iloc[0],\n",
    "        \"close\": x[price_var].iloc[-1],\n",
    "        \"high\": x[price_var].max(),\n",
    "        \"low\": x[price_var].min(),\n",
    "    })).reset_index()\n",
    "df_freq.describe()"
   ]
  },
  {
   "cell_type": "code",
   "execution_count": 68,
   "id": "11d286e3-2483-4c0e-aee3-2e0253dc87a8",
   "metadata": {},
   "outputs": [
    {
     "data": {
      "application/vnd.plotly.v1+json": {
       "config": {
        "plotlyServerURL": "https://plot.ly"
       },
       "data": [
        {
         "close": [
          1.0885113683157853e-08,
          2.2003759482421523e-08,
          4.1382814355929367e-08,
          4.4121049733107334e-08,
          5.5932815077398806e-08,
          5.255798655346744e-08,
          3.4112873106619655e-08,
          2.4861434542746416e-08,
          2.67495956492655e-08,
          3.1572181741958233e-08,
          2.7476463357654212e-08,
          1.912189941805963e-08,
          9.983779233388953e-09,
          8.894888956720879e-09,
          1.4194089189929746e-08,
          1.3703308184603296e-08,
          1.6353847060240526e-08,
          2.5009525832776017e-08,
          3.3396656684327064e-08,
          4.3822089753344974e-08,
          6.364884096993678e-08,
          8.308029538590694e-08,
          9.80372612734818e-08,
          7.440838291430095e-08,
          1.036107171801163e-07,
          1.2138125503724673e-07,
          1.0312086888618849e-07,
          9.560602897097581e-08,
          1.1318283352370813e-07,
          1.031710045661551e-07,
          7.114762123314555e-08,
          8.1676319802606e-08,
          8.969865419544556e-08,
          9.516222760544529e-08,
          2.0313725188551687e-07,
          1.51828586531085e-07,
          1.585960201523733e-07,
          1.347893332844758e-07,
          1.648646613536399e-07,
          1.4356865708849046e-07,
          1.3120798657299274e-07,
          1.3748899131793785e-07,
          1.8799836840066458e-07,
          1.8053005859352294e-07,
          1.9665269678186847e-07,
          1.7873042738708897e-07,
          2.061444370675371e-07,
          2.016405417815188e-07,
          1.6887206114412325e-07,
          1.7414169964134518e-07,
          1.7113682217422178e-07,
          2.114314695951261e-07,
          2.413091374937289e-07,
          2.4874364728690375e-07,
          2.401459676475377e-07,
          2.640363175028572e-07,
          2.2105041040895467e-07,
          2.542413753035195e-07,
          2.8289022788413176e-07
         ],
         "high": [
          1.2181449415046198e-08,
          2.6704214716206856e-08,
          3.264987928085688e-07,
          4.80691024898396e-07,
          6.49296218496729e-08,
          6.621052566729948e-08,
          5.86570677639172e-08,
          3.551835115520179e-08,
          2.9648215689717e-08,
          3.1872393213295647e-08,
          3.404446747823483e-08,
          2.719043231208403e-08,
          1.8593193896517292e-08,
          9.869438014094186e-09,
          1.4194089189929746e-08,
          1.3703308184603296e-08,
          1.6353847060240526e-08,
          2.5009525832776017e-08,
          3.365242686744413e-08,
          4.3822089753344974e-08,
          6.470448580587225e-08,
          8.33928094515358e-08,
          1.113017425306002e-07,
          9.672213790171773e-08,
          1.1267142230346784e-07,
          1.3517521392509206e-07,
          1.256954240448141e-07,
          1.0283816342268741e-07,
          1.1318283352370813e-07,
          1.3410155111633998e-07,
          1.0388949645365656e-07,
          9.209744235968753e-08,
          9.362661374275089e-08,
          1.0073960745079881e-07,
          2.0854746048662042e-07,
          1.924095041133947e-07,
          1.7112746455198274e-07,
          1.576455543065038e-07,
          1.7462930120462156e-07,
          1.7131640139758794e-07,
          1.4628988197290846e-07,
          1.4704664882561262e-07,
          1.955535581451525e-07,
          2.038435580269813e-07,
          1.9785220283229837e-07,
          1.988573755257399e-07,
          2.1226372131295477e-07,
          2.128696944774079e-07,
          2.0747380696629869e-07,
          2.021656273763119e-07,
          1.9518177706777322e-07,
          2.114314695951261e-07,
          3.054569912105565e-07,
          2.8057656673604937e-07,
          2.636719202355023e-07,
          3.105843168844707e-07,
          2.5942775280101813e-07,
          2.559184180018432e-07,
          3.2578611907417294e-07
         ],
         "low": [
          5.003727338806455e-09,
          1.1530452096064556e-08,
          2.2516545877773983e-08,
          2.7829135829163203e-08,
          4.5166162415414e-08,
          4.75279032234094e-08,
          3.223614691765536e-08,
          2.0976570198487777e-08,
          2.517527328140911e-08,
          2.6755585509560805e-08,
          2.7476463357654212e-08,
          1.912189941805963e-08,
          9.970749020339192e-09,
          8.894888956720879e-09,
          8.382500392612414e-09,
          1.2570003724575325e-08,
          1.4299313845256522e-08,
          1.7325178596540802e-08,
          2.5375032028521384e-08,
          3.472199155388541e-08,
          4.423359826912963e-08,
          6.637900118888868e-08,
          8.46926185457693e-08,
          5.167597246785127e-08,
          7.495762925659765e-08,
          8.934641216929328e-08,
          1.0312086888618849e-07,
          9.560602897097581e-08,
          9.178664861884485e-08,
          1.031710045661551e-07,
          7.114762123314555e-08,
          6.25817179984628e-08,
          8.277818233843474e-08,
          8.815202919137176e-08,
          8.968681109464073e-08,
          1.500883719868979e-07,
          1.399643604979411e-07,
          1.101436308732495e-07,
          1.3600758719830274e-07,
          1.374139702126975e-07,
          1.3120798657299274e-07,
          1.2844057825182637e-07,
          1.4146848802647997e-07,
          1.7976520222592178e-07,
          1.7081776925098414e-07,
          1.6796524696873734e-07,
          1.8012784826711638e-07,
          1.924964912373278e-07,
          1.6887206114412325e-07,
          1.496319386916939e-07,
          1.695510552564754e-07,
          1.7602795449810806e-07,
          2.0893901410312294e-07,
          2.3957548693737946e-07,
          2.3567103275125658e-07,
          2.321090141632928e-07,
          2.145223164152753e-07,
          2.2410508167825566e-07,
          2.486530617001466e-07
         ],
         "open": [
          5.003727338806455e-09,
          1.1530452096064556e-08,
          2.2516545877773983e-08,
          4.272266333722206e-08,
          4.572080134455159e-08,
          5.6577830741558814e-08,
          5.3215158393505535e-08,
          3.473802228727102e-08,
          2.52305467960362e-08,
          2.6755585509560805e-08,
          3.2589396643025434e-08,
          2.719043231208403e-08,
          1.8593193896517292e-08,
          9.869438014094186e-09,
          8.970958553074284e-09,
          1.3688329106712889e-08,
          1.4299313845256522e-08,
          1.7325178596540802e-08,
          2.5375032028521384e-08,
          3.5638307909354786e-08,
          4.423359826912963e-08,
          6.637900118888868e-08,
          8.46926185457693e-08,
          9.672213790171773e-08,
          7.495762925659765e-08,
          9.462034055034332e-08,
          1.2243016005496893e-07,
          1.0166503233613469e-07,
          9.178664861884485e-08,
          1.2285638678106398e-07,
          1.0388949645365656e-07,
          6.494801336642276e-08,
          8.277818233843474e-08,
          8.89199101959205e-08,
          9.128662297365505e-08,
          1.7235686097814566e-07,
          1.4367483317838217e-07,
          1.576455543065038e-07,
          1.3600758719830274e-07,
          1.652534193037236e-07,
          1.327653145642391e-07,
          1.384691490422496e-07,
          1.4146848802647997e-07,
          1.870924975133403e-07,
          1.826880307116258e-07,
          1.988573755257399e-07,
          1.8012784826711638e-07,
          2.0306539710551115e-07,
          2.021890492163097e-07,
          1.5735990496019162e-07,
          1.875404866205279e-07,
          1.7602795449810806e-07,
          2.0918288466026362e-07,
          2.440476014821933e-07,
          2.449717248896536e-07,
          2.3763327722556206e-07,
          2.5942775280101813e-07,
          2.2655790646874895e-07,
          2.57872532286564e-07
         ],
         "type": "candlestick",
         "x": [
          "2023-09-24T13:25:00+00:00",
          "2023-09-24T13:30:00+00:00",
          "2023-09-24T13:35:00+00:00",
          "2023-09-24T13:40:00+00:00",
          "2023-09-24T13:45:00+00:00",
          "2023-09-24T13:50:00+00:00",
          "2023-09-24T13:55:00+00:00",
          "2023-09-24T14:00:00+00:00",
          "2023-09-24T14:05:00+00:00",
          "2023-09-24T14:10:00+00:00",
          "2023-09-24T14:15:00+00:00",
          "2023-09-24T14:20:00+00:00",
          "2023-09-24T14:25:00+00:00",
          "2023-09-24T14:30:00+00:00",
          "2023-09-24T14:35:00+00:00",
          "2023-09-24T14:40:00+00:00",
          "2023-09-24T14:45:00+00:00",
          "2023-09-24T14:50:00+00:00",
          "2023-09-24T14:55:00+00:00",
          "2023-09-24T15:00:00+00:00",
          "2023-09-24T15:05:00+00:00",
          "2023-09-24T15:10:00+00:00",
          "2023-09-24T15:15:00+00:00",
          "2023-09-24T15:20:00+00:00",
          "2023-09-24T15:25:00+00:00",
          "2023-09-24T15:30:00+00:00",
          "2023-09-24T15:35:00+00:00",
          "2023-09-24T15:40:00+00:00",
          "2023-09-24T15:45:00+00:00",
          "2023-09-24T15:50:00+00:00",
          "2023-09-24T15:55:00+00:00",
          "2023-09-24T16:00:00+00:00",
          "2023-09-24T16:05:00+00:00",
          "2023-09-24T16:10:00+00:00",
          "2023-09-24T16:15:00+00:00",
          "2023-09-24T16:20:00+00:00",
          "2023-09-24T16:25:00+00:00",
          "2023-09-24T16:30:00+00:00",
          "2023-09-24T16:35:00+00:00",
          "2023-09-24T16:40:00+00:00",
          "2023-09-24T16:45:00+00:00",
          "2023-09-24T16:50:00+00:00",
          "2023-09-24T16:55:00+00:00",
          "2023-09-24T17:00:00+00:00",
          "2023-09-24T17:05:00+00:00",
          "2023-09-24T17:10:00+00:00",
          "2023-09-24T17:15:00+00:00",
          "2023-09-24T17:20:00+00:00",
          "2023-09-24T17:25:00+00:00",
          "2023-09-24T17:30:00+00:00",
          "2023-09-24T17:35:00+00:00",
          "2023-09-24T17:40:00+00:00",
          "2023-09-24T17:45:00+00:00",
          "2023-09-24T17:50:00+00:00",
          "2023-09-24T17:55:00+00:00",
          "2023-09-24T18:00:00+00:00",
          "2023-09-24T18:05:00+00:00",
          "2023-09-24T18:10:00+00:00",
          "2023-09-24T18:15:00+00:00"
         ]
        }
       ],
       "layout": {
        "height": 618,
        "margin": {
         "b": 20,
         "l": 20,
         "r": 20,
         "t": 20
        },
        "template": {
         "data": {
          "bar": [
           {
            "error_x": {
             "color": "#f2f5fa"
            },
            "error_y": {
             "color": "#f2f5fa"
            },
            "marker": {
             "line": {
              "color": "rgb(17,17,17)",
              "width": 0.5
             },
             "pattern": {
              "fillmode": "overlay",
              "size": 10,
              "solidity": 0.2
             }
            },
            "type": "bar"
           }
          ],
          "barpolar": [
           {
            "marker": {
             "line": {
              "color": "rgb(17,17,17)",
              "width": 0.5
             },
             "pattern": {
              "fillmode": "overlay",
              "size": 10,
              "solidity": 0.2
             }
            },
            "type": "barpolar"
           }
          ],
          "carpet": [
           {
            "aaxis": {
             "endlinecolor": "#A2B1C6",
             "gridcolor": "#506784",
             "linecolor": "#506784",
             "minorgridcolor": "#506784",
             "startlinecolor": "#A2B1C6"
            },
            "baxis": {
             "endlinecolor": "#A2B1C6",
             "gridcolor": "#506784",
             "linecolor": "#506784",
             "minorgridcolor": "#506784",
             "startlinecolor": "#A2B1C6"
            },
            "type": "carpet"
           }
          ],
          "choropleth": [
           {
            "colorbar": {
             "outlinewidth": 0,
             "ticks": ""
            },
            "type": "choropleth"
           }
          ],
          "contour": [
           {
            "colorbar": {
             "outlinewidth": 0,
             "ticks": ""
            },
            "colorscale": [
             [
              0,
              "#0d0887"
             ],
             [
              0.1111111111111111,
              "#46039f"
             ],
             [
              0.2222222222222222,
              "#7201a8"
             ],
             [
              0.3333333333333333,
              "#9c179e"
             ],
             [
              0.4444444444444444,
              "#bd3786"
             ],
             [
              0.5555555555555556,
              "#d8576b"
             ],
             [
              0.6666666666666666,
              "#ed7953"
             ],
             [
              0.7777777777777778,
              "#fb9f3a"
             ],
             [
              0.8888888888888888,
              "#fdca26"
             ],
             [
              1,
              "#f0f921"
             ]
            ],
            "type": "contour"
           }
          ],
          "contourcarpet": [
           {
            "colorbar": {
             "outlinewidth": 0,
             "ticks": ""
            },
            "type": "contourcarpet"
           }
          ],
          "heatmap": [
           {
            "colorbar": {
             "outlinewidth": 0,
             "ticks": ""
            },
            "colorscale": [
             [
              0,
              "#0d0887"
             ],
             [
              0.1111111111111111,
              "#46039f"
             ],
             [
              0.2222222222222222,
              "#7201a8"
             ],
             [
              0.3333333333333333,
              "#9c179e"
             ],
             [
              0.4444444444444444,
              "#bd3786"
             ],
             [
              0.5555555555555556,
              "#d8576b"
             ],
             [
              0.6666666666666666,
              "#ed7953"
             ],
             [
              0.7777777777777778,
              "#fb9f3a"
             ],
             [
              0.8888888888888888,
              "#fdca26"
             ],
             [
              1,
              "#f0f921"
             ]
            ],
            "type": "heatmap"
           }
          ],
          "heatmapgl": [
           {
            "colorbar": {
             "outlinewidth": 0,
             "ticks": ""
            },
            "colorscale": [
             [
              0,
              "#0d0887"
             ],
             [
              0.1111111111111111,
              "#46039f"
             ],
             [
              0.2222222222222222,
              "#7201a8"
             ],
             [
              0.3333333333333333,
              "#9c179e"
             ],
             [
              0.4444444444444444,
              "#bd3786"
             ],
             [
              0.5555555555555556,
              "#d8576b"
             ],
             [
              0.6666666666666666,
              "#ed7953"
             ],
             [
              0.7777777777777778,
              "#fb9f3a"
             ],
             [
              0.8888888888888888,
              "#fdca26"
             ],
             [
              1,
              "#f0f921"
             ]
            ],
            "type": "heatmapgl"
           }
          ],
          "histogram": [
           {
            "marker": {
             "pattern": {
              "fillmode": "overlay",
              "size": 10,
              "solidity": 0.2
             }
            },
            "type": "histogram"
           }
          ],
          "histogram2d": [
           {
            "colorbar": {
             "outlinewidth": 0,
             "ticks": ""
            },
            "colorscale": [
             [
              0,
              "#0d0887"
             ],
             [
              0.1111111111111111,
              "#46039f"
             ],
             [
              0.2222222222222222,
              "#7201a8"
             ],
             [
              0.3333333333333333,
              "#9c179e"
             ],
             [
              0.4444444444444444,
              "#bd3786"
             ],
             [
              0.5555555555555556,
              "#d8576b"
             ],
             [
              0.6666666666666666,
              "#ed7953"
             ],
             [
              0.7777777777777778,
              "#fb9f3a"
             ],
             [
              0.8888888888888888,
              "#fdca26"
             ],
             [
              1,
              "#f0f921"
             ]
            ],
            "type": "histogram2d"
           }
          ],
          "histogram2dcontour": [
           {
            "colorbar": {
             "outlinewidth": 0,
             "ticks": ""
            },
            "colorscale": [
             [
              0,
              "#0d0887"
             ],
             [
              0.1111111111111111,
              "#46039f"
             ],
             [
              0.2222222222222222,
              "#7201a8"
             ],
             [
              0.3333333333333333,
              "#9c179e"
             ],
             [
              0.4444444444444444,
              "#bd3786"
             ],
             [
              0.5555555555555556,
              "#d8576b"
             ],
             [
              0.6666666666666666,
              "#ed7953"
             ],
             [
              0.7777777777777778,
              "#fb9f3a"
             ],
             [
              0.8888888888888888,
              "#fdca26"
             ],
             [
              1,
              "#f0f921"
             ]
            ],
            "type": "histogram2dcontour"
           }
          ],
          "mesh3d": [
           {
            "colorbar": {
             "outlinewidth": 0,
             "ticks": ""
            },
            "type": "mesh3d"
           }
          ],
          "parcoords": [
           {
            "line": {
             "colorbar": {
              "outlinewidth": 0,
              "ticks": ""
             }
            },
            "type": "parcoords"
           }
          ],
          "pie": [
           {
            "automargin": true,
            "type": "pie"
           }
          ],
          "scatter": [
           {
            "marker": {
             "line": {
              "color": "#283442"
             }
            },
            "type": "scatter"
           }
          ],
          "scatter3d": [
           {
            "line": {
             "colorbar": {
              "outlinewidth": 0,
              "ticks": ""
             }
            },
            "marker": {
             "colorbar": {
              "outlinewidth": 0,
              "ticks": ""
             }
            },
            "type": "scatter3d"
           }
          ],
          "scattercarpet": [
           {
            "marker": {
             "colorbar": {
              "outlinewidth": 0,
              "ticks": ""
             }
            },
            "type": "scattercarpet"
           }
          ],
          "scattergeo": [
           {
            "marker": {
             "colorbar": {
              "outlinewidth": 0,
              "ticks": ""
             }
            },
            "type": "scattergeo"
           }
          ],
          "scattergl": [
           {
            "marker": {
             "line": {
              "color": "#283442"
             }
            },
            "type": "scattergl"
           }
          ],
          "scattermapbox": [
           {
            "marker": {
             "colorbar": {
              "outlinewidth": 0,
              "ticks": ""
             }
            },
            "type": "scattermapbox"
           }
          ],
          "scatterpolar": [
           {
            "marker": {
             "colorbar": {
              "outlinewidth": 0,
              "ticks": ""
             }
            },
            "type": "scatterpolar"
           }
          ],
          "scatterpolargl": [
           {
            "marker": {
             "colorbar": {
              "outlinewidth": 0,
              "ticks": ""
             }
            },
            "type": "scatterpolargl"
           }
          ],
          "scatterternary": [
           {
            "marker": {
             "colorbar": {
              "outlinewidth": 0,
              "ticks": ""
             }
            },
            "type": "scatterternary"
           }
          ],
          "surface": [
           {
            "colorbar": {
             "outlinewidth": 0,
             "ticks": ""
            },
            "colorscale": [
             [
              0,
              "#0d0887"
             ],
             [
              0.1111111111111111,
              "#46039f"
             ],
             [
              0.2222222222222222,
              "#7201a8"
             ],
             [
              0.3333333333333333,
              "#9c179e"
             ],
             [
              0.4444444444444444,
              "#bd3786"
             ],
             [
              0.5555555555555556,
              "#d8576b"
             ],
             [
              0.6666666666666666,
              "#ed7953"
             ],
             [
              0.7777777777777778,
              "#fb9f3a"
             ],
             [
              0.8888888888888888,
              "#fdca26"
             ],
             [
              1,
              "#f0f921"
             ]
            ],
            "type": "surface"
           }
          ],
          "table": [
           {
            "cells": {
             "fill": {
              "color": "#506784"
             },
             "line": {
              "color": "rgb(17,17,17)"
             }
            },
            "header": {
             "fill": {
              "color": "#2a3f5f"
             },
             "line": {
              "color": "rgb(17,17,17)"
             }
            },
            "type": "table"
           }
          ]
         },
         "layout": {
          "annotationdefaults": {
           "arrowcolor": "#f2f5fa",
           "arrowhead": 0,
           "arrowwidth": 1
          },
          "autotypenumbers": "strict",
          "coloraxis": {
           "colorbar": {
            "outlinewidth": 0,
            "ticks": ""
           }
          },
          "colorscale": {
           "diverging": [
            [
             0,
             "#8e0152"
            ],
            [
             0.1,
             "#c51b7d"
            ],
            [
             0.2,
             "#de77ae"
            ],
            [
             0.3,
             "#f1b6da"
            ],
            [
             0.4,
             "#fde0ef"
            ],
            [
             0.5,
             "#f7f7f7"
            ],
            [
             0.6,
             "#e6f5d0"
            ],
            [
             0.7,
             "#b8e186"
            ],
            [
             0.8,
             "#7fbc41"
            ],
            [
             0.9,
             "#4d9221"
            ],
            [
             1,
             "#276419"
            ]
           ],
           "sequential": [
            [
             0,
             "#0d0887"
            ],
            [
             0.1111111111111111,
             "#46039f"
            ],
            [
             0.2222222222222222,
             "#7201a8"
            ],
            [
             0.3333333333333333,
             "#9c179e"
            ],
            [
             0.4444444444444444,
             "#bd3786"
            ],
            [
             0.5555555555555556,
             "#d8576b"
            ],
            [
             0.6666666666666666,
             "#ed7953"
            ],
            [
             0.7777777777777778,
             "#fb9f3a"
            ],
            [
             0.8888888888888888,
             "#fdca26"
            ],
            [
             1,
             "#f0f921"
            ]
           ],
           "sequentialminus": [
            [
             0,
             "#0d0887"
            ],
            [
             0.1111111111111111,
             "#46039f"
            ],
            [
             0.2222222222222222,
             "#7201a8"
            ],
            [
             0.3333333333333333,
             "#9c179e"
            ],
            [
             0.4444444444444444,
             "#bd3786"
            ],
            [
             0.5555555555555556,
             "#d8576b"
            ],
            [
             0.6666666666666666,
             "#ed7953"
            ],
            [
             0.7777777777777778,
             "#fb9f3a"
            ],
            [
             0.8888888888888888,
             "#fdca26"
            ],
            [
             1,
             "#f0f921"
            ]
           ]
          },
          "colorway": [
           "#636efa",
           "#EF553B",
           "#00cc96",
           "#ab63fa",
           "#FFA15A",
           "#19d3f3",
           "#FF6692",
           "#B6E880",
           "#FF97FF",
           "#FECB52"
          ],
          "font": {
           "color": "#f2f5fa"
          },
          "geo": {
           "bgcolor": "rgb(17,17,17)",
           "lakecolor": "rgb(17,17,17)",
           "landcolor": "rgb(17,17,17)",
           "showlakes": true,
           "showland": true,
           "subunitcolor": "#506784"
          },
          "hoverlabel": {
           "align": "left"
          },
          "hovermode": "closest",
          "mapbox": {
           "style": "dark"
          },
          "paper_bgcolor": "rgb(17,17,17)",
          "plot_bgcolor": "rgb(17,17,17)",
          "polar": {
           "angularaxis": {
            "gridcolor": "#506784",
            "linecolor": "#506784",
            "ticks": ""
           },
           "bgcolor": "rgb(17,17,17)",
           "radialaxis": {
            "gridcolor": "#506784",
            "linecolor": "#506784",
            "ticks": ""
           }
          },
          "scene": {
           "xaxis": {
            "backgroundcolor": "rgb(17,17,17)",
            "gridcolor": "#506784",
            "gridwidth": 2,
            "linecolor": "#506784",
            "showbackground": true,
            "ticks": "",
            "zerolinecolor": "#C8D4E3"
           },
           "yaxis": {
            "backgroundcolor": "rgb(17,17,17)",
            "gridcolor": "#506784",
            "gridwidth": 2,
            "linecolor": "#506784",
            "showbackground": true,
            "ticks": "",
            "zerolinecolor": "#C8D4E3"
           },
           "zaxis": {
            "backgroundcolor": "rgb(17,17,17)",
            "gridcolor": "#506784",
            "gridwidth": 2,
            "linecolor": "#506784",
            "showbackground": true,
            "ticks": "",
            "zerolinecolor": "#C8D4E3"
           }
          },
          "shapedefaults": {
           "line": {
            "color": "#f2f5fa"
           }
          },
          "sliderdefaults": {
           "bgcolor": "#C8D4E3",
           "bordercolor": "rgb(17,17,17)",
           "borderwidth": 1,
           "tickwidth": 0
          },
          "ternary": {
           "aaxis": {
            "gridcolor": "#506784",
            "linecolor": "#506784",
            "ticks": ""
           },
           "baxis": {
            "gridcolor": "#506784",
            "linecolor": "#506784",
            "ticks": ""
           },
           "bgcolor": "rgb(17,17,17)",
           "caxis": {
            "gridcolor": "#506784",
            "linecolor": "#506784",
            "ticks": ""
           }
          },
          "title": {
           "x": 0.05
          },
          "updatemenudefaults": {
           "bgcolor": "#506784",
           "borderwidth": 0
          },
          "xaxis": {
           "automargin": true,
           "gridcolor": "#283442",
           "linecolor": "#506784",
           "ticks": "",
           "title": {
            "standoff": 15
           },
           "zerolinecolor": "#283442",
           "zerolinewidth": 2
          },
          "yaxis": {
           "automargin": true,
           "gridcolor": "#283442",
           "linecolor": "#506784",
           "ticks": "",
           "title": {
            "standoff": 15
           },
           "zerolinecolor": "#283442",
           "zerolinewidth": 2
          }
         }
        },
        "width": 1000,
        "xaxis": {
         "autorange": true,
         "range": [
          "2023-09-24 13:22:30",
          "2023-09-24 18:17:30"
         ],
         "rangeslider": {
          "visible": false,
          "yaxis": {}
         },
         "type": "date"
        },
        "yaxis": {
         "autorange": true,
         "range": [
          -2.1423344747837408e-08,
          5.071180969850399e-07
         ],
         "tickformat": "g2"
        }
       }
      },
      "image/png": "[encoded data removed]",
      "text/html": [
       "<div>                            <div id=\"eeaa6247-96c8-47d4-a808-6851a4c6ee80\" class=\"plotly-graph-div\" style=\"height:618px; width:1000px;\"></div>            <script type=\"text/javascript\">                require([\"plotly\"], function(Plotly) {                    window.PLOTLYENV=window.PLOTLYENV || {};                                    if (document.getElementById(\"eeaa6247-96c8-47d4-a808-6851a4c6ee80\")) {                    Plotly.newPlot(                        \"eeaa6247-96c8-47d4-a808-6851a4c6ee80\",                        [{\"close\":[1.0885113683157853e-08,2.2003759482421523e-08,4.1382814355929367e-08,4.4121049733107334e-08,5.5932815077398806e-08,5.255798655346744e-08,3.4112873106619655e-08,2.4861434542746416e-08,2.67495956492655e-08,3.1572181741958233e-08,2.7476463357654212e-08,1.912189941805963e-08,9.983779233388953e-09,8.894888956720879e-09,1.4194089189929746e-08,1.3703308184603296e-08,1.6353847060240526e-08,2.5009525832776017e-08,3.3396656684327064e-08,4.3822089753344974e-08,6.364884096993678e-08,8.308029538590694e-08,9.80372612734818e-08,7.440838291430095e-08,1.036107171801163e-07,1.2138125503724673e-07,1.0312086888618849e-07,9.560602897097581e-08,1.1318283352370813e-07,1.031710045661551e-07,7.114762123314555e-08,8.1676319802606e-08,8.969865419544556e-08,9.516222760544529e-08,2.0313725188551687e-07,1.51828586531085e-07,1.585960201523733e-07,1.347893332844758e-07,1.648646613536399e-07,1.4356865708849046e-07,1.3120798657299274e-07,1.3748899131793785e-07,1.8799836840066458e-07,1.8053005859352294e-07,1.9665269678186847e-07,1.7873042738708897e-07,2.061444370675371e-07,2.016405417815188e-07,1.6887206114412325e-07,1.7414169964134518e-07,1.7113682217422178e-07,2.114314695951261e-07,2.413091374937289e-07,2.4874364728690375e-07,2.401459676475377e-07,2.640363175028572e-07,2.2105041040895467e-07,2.542413753035195e-07,2.8289022788413176e-07],\"high\":[1.2181449415046198e-08,2.6704214716206856e-08,3.264987928085688e-07,4.80691024898396e-07,6.49296218496729e-08,6.621052566729948e-08,5.86570677639172e-08,3.551835115520179e-08,2.9648215689717e-08,3.1872393213295647e-08,3.404446747823483e-08,2.719043231208403e-08,1.8593193896517292e-08,9.869438014094186e-09,1.4194089189929746e-08,1.3703308184603296e-08,1.6353847060240526e-08,2.5009525832776017e-08,3.365242686744413e-08,4.3822089753344974e-08,6.470448580587225e-08,8.33928094515358e-08,1.113017425306002e-07,9.672213790171773e-08,1.1267142230346784e-07,1.3517521392509206e-07,1.256954240448141e-07,1.0283816342268741e-07,1.1318283352370813e-07,1.3410155111633998e-07,1.0388949645365656e-07,9.209744235968753e-08,9.362661374275089e-08,1.0073960745079881e-07,2.0854746048662042e-07,1.924095041133947e-07,1.7112746455198274e-07,1.576455543065038e-07,1.7462930120462156e-07,1.7131640139758794e-07,1.4628988197290846e-07,1.4704664882561262e-07,1.955535581451525e-07,2.038435580269813e-07,1.9785220283229837e-07,1.988573755257399e-07,2.1226372131295477e-07,2.128696944774079e-07,2.0747380696629869e-07,2.021656273763119e-07,1.9518177706777322e-07,2.114314695951261e-07,3.054569912105565e-07,2.8057656673604937e-07,2.636719202355023e-07,3.105843168844707e-07,2.5942775280101813e-07,2.559184180018432e-07,3.2578611907417294e-07],\"low\":[5.003727338806455e-09,1.1530452096064556e-08,2.2516545877773983e-08,2.7829135829163203e-08,4.5166162415414e-08,4.75279032234094e-08,3.223614691765536e-08,2.0976570198487777e-08,2.517527328140911e-08,2.6755585509560805e-08,2.7476463357654212e-08,1.912189941805963e-08,9.970749020339192e-09,8.894888956720879e-09,8.382500392612414e-09,1.2570003724575325e-08,1.4299313845256522e-08,1.7325178596540802e-08,2.5375032028521384e-08,3.472199155388541e-08,4.423359826912963e-08,6.637900118888868e-08,8.46926185457693e-08,5.167597246785127e-08,7.495762925659765e-08,8.934641216929328e-08,1.0312086888618849e-07,9.560602897097581e-08,9.178664861884485e-08,1.031710045661551e-07,7.114762123314555e-08,6.25817179984628e-08,8.277818233843474e-08,8.815202919137176e-08,8.968681109464073e-08,1.500883719868979e-07,1.399643604979411e-07,1.101436308732495e-07,1.3600758719830274e-07,1.374139702126975e-07,1.3120798657299274e-07,1.2844057825182637e-07,1.4146848802647997e-07,1.7976520222592178e-07,1.7081776925098414e-07,1.6796524696873734e-07,1.8012784826711638e-07,1.924964912373278e-07,1.6887206114412325e-07,1.496319386916939e-07,1.695510552564754e-07,1.7602795449810806e-07,2.0893901410312294e-07,2.3957548693737946e-07,2.3567103275125658e-07,2.321090141632928e-07,2.145223164152753e-07,2.2410508167825566e-07,2.486530617001466e-07],\"open\":[5.003727338806455e-09,1.1530452096064556e-08,2.2516545877773983e-08,4.272266333722206e-08,4.572080134455159e-08,5.6577830741558814e-08,5.3215158393505535e-08,3.473802228727102e-08,2.52305467960362e-08,2.6755585509560805e-08,3.2589396643025434e-08,2.719043231208403e-08,1.8593193896517292e-08,9.869438014094186e-09,8.970958553074284e-09,1.3688329106712889e-08,1.4299313845256522e-08,1.7325178596540802e-08,2.5375032028521384e-08,3.5638307909354786e-08,4.423359826912963e-08,6.637900118888868e-08,8.46926185457693e-08,9.672213790171773e-08,7.495762925659765e-08,9.462034055034332e-08,1.2243016005496893e-07,1.0166503233613469e-07,9.178664861884485e-08,1.2285638678106398e-07,1.0388949645365656e-07,6.494801336642276e-08,8.277818233843474e-08,8.89199101959205e-08,9.128662297365505e-08,1.7235686097814566e-07,1.4367483317838217e-07,1.576455543065038e-07,1.3600758719830274e-07,1.652534193037236e-07,1.327653145642391e-07,1.384691490422496e-07,1.4146848802647997e-07,1.870924975133403e-07,1.826880307116258e-07,1.988573755257399e-07,1.8012784826711638e-07,2.0306539710551115e-07,2.021890492163097e-07,1.5735990496019162e-07,1.875404866205279e-07,1.7602795449810806e-07,2.0918288466026362e-07,2.440476014821933e-07,2.449717248896536e-07,2.3763327722556206e-07,2.5942775280101813e-07,2.2655790646874895e-07,2.57872532286564e-07],\"x\":[\"2023-09-24T13:25:00+00:00\",\"2023-09-24T13:30:00+00:00\",\"2023-09-24T13:35:00+00:00\",\"2023-09-24T13:40:00+00:00\",\"2023-09-24T13:45:00+00:00\",\"2023-09-24T13:50:00+00:00\",\"2023-09-24T13:55:00+00:00\",\"2023-09-24T14:00:00+00:00\",\"2023-09-24T14:05:00+00:00\",\"2023-09-24T14:10:00+00:00\",\"2023-09-24T14:15:00+00:00\",\"2023-09-24T14:20:00+00:00\",\"2023-09-24T14:25:00+00:00\",\"2023-09-24T14:30:00+00:00\",\"2023-09-24T14:35:00+00:00\",\"2023-09-24T14:40:00+00:00\",\"2023-09-24T14:45:00+00:00\",\"2023-09-24T14:50:00+00:00\",\"2023-09-24T14:55:00+00:00\",\"2023-09-24T15:00:00+00:00\",\"2023-09-24T15:05:00+00:00\",\"2023-09-24T15:10:00+00:00\",\"2023-09-24T15:15:00+00:00\",\"2023-09-24T15:20:00+00:00\",\"2023-09-24T15:25:00+00:00\",\"2023-09-24T15:30:00+00:00\",\"2023-09-24T15:35:00+00:00\",\"2023-09-24T15:40:00+00:00\",\"2023-09-24T15:45:00+00:00\",\"2023-09-24T15:50:00+00:00\",\"2023-09-24T15:55:00+00:00\",\"2023-09-24T16:00:00+00:00\",\"2023-09-24T16:05:00+00:00\",\"2023-09-24T16:10:00+00:00\",\"2023-09-24T16:15:00+00:00\",\"2023-09-24T16:20:00+00:00\",\"2023-09-24T16:25:00+00:00\",\"2023-09-24T16:30:00+00:00\",\"2023-09-24T16:35:00+00:00\",\"2023-09-24T16:40:00+00:00\",\"2023-09-24T16:45:00+00:00\",\"2023-09-24T16:50:00+00:00\",\"2023-09-24T16:55:00+00:00\",\"2023-09-24T17:00:00+00:00\",\"2023-09-24T17:05:00+00:00\",\"2023-09-24T17:10:00+00:00\",\"2023-09-24T17:15:00+00:00\",\"2023-09-24T17:20:00+00:00\",\"2023-09-24T17:25:00+00:00\",\"2023-09-24T17:30:00+00:00\",\"2023-09-24T17:35:00+00:00\",\"2023-09-24T17:40:00+00:00\",\"2023-09-24T17:45:00+00:00\",\"2023-09-24T17:50:00+00:00\",\"2023-09-24T17:55:00+00:00\",\"2023-09-24T18:00:00+00:00\",\"2023-09-24T18:05:00+00:00\",\"2023-09-24T18:10:00+00:00\",\"2023-09-24T18:15:00+00:00\"],\"type\":\"candlestick\"}],                        {\"template\":{\"data\":{\"barpolar\":[{\"marker\":{\"line\":{\"color\":\"rgb(17,17,17)\",\"width\":0.5},\"pattern\":{\"fillmode\":\"overlay\",\"size\":10,\"solidity\":0.2}},\"type\":\"barpolar\"}],\"bar\":[{\"error_x\":{\"color\":\"#f2f5fa\"},\"error_y\":{\"color\":\"#f2f5fa\"},\"marker\":{\"line\":{\"color\":\"rgb(17,17,17)\",\"width\":0.5},\"pattern\":{\"fillmode\":\"overlay\",\"size\":10,\"solidity\":0.2}},\"type\":\"bar\"}],\"carpet\":[{\"aaxis\":{\"endlinecolor\":\"#A2B1C6\",\"gridcolor\":\"#506784\",\"linecolor\":\"#506784\",\"minorgridcolor\":\"#506784\",\"startlinecolor\":\"#A2B1C6\"},\"baxis\":{\"endlinecolor\":\"#A2B1C6\",\"gridcolor\":\"#506784\",\"linecolor\":\"#506784\",\"minorgridcolor\":\"#506784\",\"startlinecolor\":\"#A2B1C6\"},\"type\":\"carpet\"}],\"choropleth\":[{\"colorbar\":{\"outlinewidth\":0,\"ticks\":\"\"},\"type\":\"choropleth\"}],\"contourcarpet\":[{\"colorbar\":{\"outlinewidth\":0,\"ticks\":\"\"},\"type\":\"contourcarpet\"}],\"contour\":[{\"colorbar\":{\"outlinewidth\":0,\"ticks\":\"\"},\"colorscale\":[[0.0,\"#0d0887\"],[0.1111111111111111,\"#46039f\"],[0.2222222222222222,\"#7201a8\"],[0.3333333333333333,\"#9c179e\"],[0.4444444444444444,\"#bd3786\"],[0.5555555555555556,\"#d8576b\"],[0.6666666666666666,\"#ed7953\"],[0.7777777777777778,\"#fb9f3a\"],[0.8888888888888888,\"#fdca26\"],[1.0,\"#f0f921\"]],\"type\":\"contour\"}],\"heatmapgl\":[{\"colorbar\":{\"outlinewidth\":0,\"ticks\":\"\"},\"colorscale\":[[0.0,\"#0d0887\"],[0.1111111111111111,\"#46039f\"],[0.2222222222222222,\"#7201a8\"],[0.3333333333333333,\"#9c179e\"],[0.4444444444444444,\"#bd3786\"],[0.5555555555555556,\"#d8576b\"],[0.6666666666666666,\"#ed7953\"],[0.7777777777777778,\"#fb9f3a\"],[0.8888888888888888,\"#fdca26\"],[1.0,\"#f0f921\"]],\"type\":\"heatmapgl\"}],\"heatmap\":[{\"colorbar\":{\"outlinewidth\":0,\"ticks\":\"\"},\"colorscale\":[[0.0,\"#0d0887\"],[0.1111111111111111,\"#46039f\"],[0.2222222222222222,\"#7201a8\"],[0.3333333333333333,\"#9c179e\"],[0.4444444444444444,\"#bd3786\"],[0.5555555555555556,\"#d8576b\"],[0.6666666666666666,\"#ed7953\"],[0.7777777777777778,\"#fb9f3a\"],[0.8888888888888888,\"#fdca26\"],[1.0,\"#f0f921\"]],\"type\":\"heatmap\"}],\"histogram2dcontour\":[{\"colorbar\":{\"outlinewidth\":0,\"ticks\":\"\"},\"colorscale\":[[0.0,\"#0d0887\"],[0.1111111111111111,\"#46039f\"],[0.2222222222222222,\"#7201a8\"],[0.3333333333333333,\"#9c179e\"],[0.4444444444444444,\"#bd3786\"],[0.5555555555555556,\"#d8576b\"],[0.6666666666666666,\"#ed7953\"],[0.7777777777777778,\"#fb9f3a\"],[0.8888888888888888,\"#fdca26\"],[1.0,\"#f0f921\"]],\"type\":\"histogram2dcontour\"}],\"histogram2d\":[{\"colorbar\":{\"outlinewidth\":0,\"ticks\":\"\"},\"colorscale\":[[0.0,\"#0d0887\"],[0.1111111111111111,\"#46039f\"],[0.2222222222222222,\"#7201a8\"],[0.3333333333333333,\"#9c179e\"],[0.4444444444444444,\"#bd3786\"],[0.5555555555555556,\"#d8576b\"],[0.6666666666666666,\"#ed7953\"],[0.7777777777777778,\"#fb9f3a\"],[0.8888888888888888,\"#fdca26\"],[1.0,\"#f0f921\"]],\"type\":\"histogram2d\"}],\"histogram\":[{\"marker\":{\"pattern\":{\"fillmode\":\"overlay\",\"size\":10,\"solidity\":0.2}},\"type\":\"histogram\"}],\"mesh3d\":[{\"colorbar\":{\"outlinewidth\":0,\"ticks\":\"\"},\"type\":\"mesh3d\"}],\"parcoords\":[{\"line\":{\"colorbar\":{\"outlinewidth\":0,\"ticks\":\"\"}},\"type\":\"parcoords\"}],\"pie\":[{\"automargin\":true,\"type\":\"pie\"}],\"scatter3d\":[{\"line\":{\"colorbar\":{\"outlinewidth\":0,\"ticks\":\"\"}},\"marker\":{\"colorbar\":{\"outlinewidth\":0,\"ticks\":\"\"}},\"type\":\"scatter3d\"}],\"scattercarpet\":[{\"marker\":{\"colorbar\":{\"outlinewidth\":0,\"ticks\":\"\"}},\"type\":\"scattercarpet\"}],\"scattergeo\":[{\"marker\":{\"colorbar\":{\"outlinewidth\":0,\"ticks\":\"\"}},\"type\":\"scattergeo\"}],\"scattergl\":[{\"marker\":{\"line\":{\"color\":\"#283442\"}},\"type\":\"scattergl\"}],\"scattermapbox\":[{\"marker\":{\"colorbar\":{\"outlinewidth\":0,\"ticks\":\"\"}},\"type\":\"scattermapbox\"}],\"scatterpolargl\":[{\"marker\":{\"colorbar\":{\"outlinewidth\":0,\"ticks\":\"\"}},\"type\":\"scatterpolargl\"}],\"scatterpolar\":[{\"marker\":{\"colorbar\":{\"outlinewidth\":0,\"ticks\":\"\"}},\"type\":\"scatterpolar\"}],\"scatter\":[{\"marker\":{\"line\":{\"color\":\"#283442\"}},\"type\":\"scatter\"}],\"scatterternary\":[{\"marker\":{\"colorbar\":{\"outlinewidth\":0,\"ticks\":\"\"}},\"type\":\"scatterternary\"}],\"surface\":[{\"colorbar\":{\"outlinewidth\":0,\"ticks\":\"\"},\"colorscale\":[[0.0,\"#0d0887\"],[0.1111111111111111,\"#46039f\"],[0.2222222222222222,\"#7201a8\"],[0.3333333333333333,\"#9c179e\"],[0.4444444444444444,\"#bd3786\"],[0.5555555555555556,\"#d8576b\"],[0.6666666666666666,\"#ed7953\"],[0.7777777777777778,\"#fb9f3a\"],[0.8888888888888888,\"#fdca26\"],[1.0,\"#f0f921\"]],\"type\":\"surface\"}],\"table\":[{\"cells\":{\"fill\":{\"color\":\"#506784\"},\"line\":{\"color\":\"rgb(17,17,17)\"}},\"header\":{\"fill\":{\"color\":\"#2a3f5f\"},\"line\":{\"color\":\"rgb(17,17,17)\"}},\"type\":\"table\"}]},\"layout\":{\"annotationdefaults\":{\"arrowcolor\":\"#f2f5fa\",\"arrowhead\":0,\"arrowwidth\":1},\"autotypenumbers\":\"strict\",\"coloraxis\":{\"colorbar\":{\"outlinewidth\":0,\"ticks\":\"\"}},\"colorscale\":{\"diverging\":[[0,\"#8e0152\"],[0.1,\"#c51b7d\"],[0.2,\"#de77ae\"],[0.3,\"#f1b6da\"],[0.4,\"#fde0ef\"],[0.5,\"#f7f7f7\"],[0.6,\"#e6f5d0\"],[0.7,\"#b8e186\"],[0.8,\"#7fbc41\"],[0.9,\"#4d9221\"],[1,\"#276419\"]],\"sequential\":[[0.0,\"#0d0887\"],[0.1111111111111111,\"#46039f\"],[0.2222222222222222,\"#7201a8\"],[0.3333333333333333,\"#9c179e\"],[0.4444444444444444,\"#bd3786\"],[0.5555555555555556,\"#d8576b\"],[0.6666666666666666,\"#ed7953\"],[0.7777777777777778,\"#fb9f3a\"],[0.8888888888888888,\"#fdca26\"],[1.0,\"#f0f921\"]],\"sequentialminus\":[[0.0,\"#0d0887\"],[0.1111111111111111,\"#46039f\"],[0.2222222222222222,\"#7201a8\"],[0.3333333333333333,\"#9c179e\"],[0.4444444444444444,\"#bd3786\"],[0.5555555555555556,\"#d8576b\"],[0.6666666666666666,\"#ed7953\"],[0.7777777777777778,\"#fb9f3a\"],[0.8888888888888888,\"#fdca26\"],[1.0,\"#f0f921\"]]},\"colorway\":[\"#636efa\",\"#EF553B\",\"#00cc96\",\"#ab63fa\",\"#FFA15A\",\"#19d3f3\",\"#FF6692\",\"#B6E880\",\"#FF97FF\",\"#FECB52\"],\"font\":{\"color\":\"#f2f5fa\"},\"geo\":{\"bgcolor\":\"rgb(17,17,17)\",\"lakecolor\":\"rgb(17,17,17)\",\"landcolor\":\"rgb(17,17,17)\",\"showlakes\":true,\"showland\":true,\"subunitcolor\":\"#506784\"},\"hoverlabel\":{\"align\":\"left\"},\"hovermode\":\"closest\",\"mapbox\":{\"style\":\"dark\"},\"paper_bgcolor\":\"rgb(17,17,17)\",\"plot_bgcolor\":\"rgb(17,17,17)\",\"polar\":{\"angularaxis\":{\"gridcolor\":\"#506784\",\"linecolor\":\"#506784\",\"ticks\":\"\"},\"bgcolor\":\"rgb(17,17,17)\",\"radialaxis\":{\"gridcolor\":\"#506784\",\"linecolor\":\"#506784\",\"ticks\":\"\"}},\"scene\":{\"xaxis\":{\"backgroundcolor\":\"rgb(17,17,17)\",\"gridcolor\":\"#506784\",\"gridwidth\":2,\"linecolor\":\"#506784\",\"showbackground\":true,\"ticks\":\"\",\"zerolinecolor\":\"#C8D4E3\"},\"yaxis\":{\"backgroundcolor\":\"rgb(17,17,17)\",\"gridcolor\":\"#506784\",\"gridwidth\":2,\"linecolor\":\"#506784\",\"showbackground\":true,\"ticks\":\"\",\"zerolinecolor\":\"#C8D4E3\"},\"zaxis\":{\"backgroundcolor\":\"rgb(17,17,17)\",\"gridcolor\":\"#506784\",\"gridwidth\":2,\"linecolor\":\"#506784\",\"showbackground\":true,\"ticks\":\"\",\"zerolinecolor\":\"#C8D4E3\"}},\"shapedefaults\":{\"line\":{\"color\":\"#f2f5fa\"}},\"sliderdefaults\":{\"bgcolor\":\"#C8D4E3\",\"bordercolor\":\"rgb(17,17,17)\",\"borderwidth\":1,\"tickwidth\":0},\"ternary\":{\"aaxis\":{\"gridcolor\":\"#506784\",\"linecolor\":\"#506784\",\"ticks\":\"\"},\"baxis\":{\"gridcolor\":\"#506784\",\"linecolor\":\"#506784\",\"ticks\":\"\"},\"bgcolor\":\"rgb(17,17,17)\",\"caxis\":{\"gridcolor\":\"#506784\",\"linecolor\":\"#506784\",\"ticks\":\"\"}},\"title\":{\"x\":0.05},\"updatemenudefaults\":{\"bgcolor\":\"#506784\",\"borderwidth\":0},\"xaxis\":{\"automargin\":true,\"gridcolor\":\"#283442\",\"linecolor\":\"#506784\",\"ticks\":\"\",\"title\":{\"standoff\":15},\"zerolinecolor\":\"#283442\",\"zerolinewidth\":2},\"yaxis\":{\"automargin\":true,\"gridcolor\":\"#283442\",\"linecolor\":\"#506784\",\"ticks\":\"\",\"title\":{\"standoff\":15},\"zerolinecolor\":\"#283442\",\"zerolinewidth\":2}}},\"margin\":{\"l\":20,\"r\":20,\"t\":20,\"b\":20},\"yaxis\":{\"tickformat\":\"g2\"},\"xaxis\":{\"rangeslider\":{\"visible\":false}},\"width\":1000,\"height\":618},                        {\"responsive\": true}                    ).then(function(){\n",
       "                            \n",
       "var gd = document.getElementById('eeaa6247-96c8-47d4-a808-6851a4c6ee80');\n",
       "var x = new MutationObserver(function (mutations, observer) {{\n",
       "        var display = window.getComputedStyle(gd).display;\n",
       "        if (!display || display === 'none') {{\n",
       "            console.log([gd, 'removed!']);\n",
       "            Plotly.purge(gd);\n",
       "            observer.disconnect();\n",
       "        }}\n",
       "}});\n",
       "\n",
       "// Listen for the removal of the full notebook cells\n",
       "var notebookContainer = gd.closest('#notebook-container');\n",
       "if (notebookContainer) {{\n",
       "    x.observe(notebookContainer, {childList: true});\n",
       "}}\n",
       "\n",
       "// Listen for the clearing of the current output cell\n",
       "var outputEl = gd.closest('.output');\n",
       "if (outputEl) {{\n",
       "    x.observe(outputEl, {childList: true});\n",
       "}}\n",
       "\n",
       "                        })                };                });            </script>        </div>"
      ]
     },
     "metadata": {},
     "output_type": "display_data"
    }
   ],
   "source": [
    "import plotly.graph_objects as go\n",
    "import pandas as pd\n",
    "from datetime import datetime\n",
    "\n",
    "\n",
    "fig = go.Figure(\n",
    "    data=[\n",
    "        go.Candlestick(x=df_freq[\"timestamp_freq\"],\n",
    "        open=df_freq['open'],\n",
    "        high=df_freq['high'],\n",
    "        low=df_freq['low'],\n",
    "        close=df_freq['close'])])\n",
    "fig.update_layout(\n",
    "    margin=dict(l=20, r=20, t=20, b=20),\n",
    "    width=1000, height=618,\n",
    "    template=\"plotly_dark\",\n",
    "    yaxis={'tickformat': 'g2'},\n",
    "    xaxis_rangeslider_visible=False,\n",
    ")\n",
    "\n",
    "fig.show()"
   ]
  },
  {
   "cell_type": "code",
   "execution_count": null,
   "id": "b27b80ba-f647-4b1e-a4a1-dc1d5ac6f506",
   "metadata": {},
   "outputs": [],
   "source": []
  }
 ],
 "metadata": {
  "kernelspec": {
   "display_name": "Python 3 (ipykernel)",
   "language": "python",
   "name": "python3"
  },
  "language_info": {
   "codemirror_mode": {
    "name": "ipython",
    "version": 3
   },
   "file_extension": ".py",
   "mimetype": "text/x-python",
   "name": "python",
   "nbconvert_exporter": "python",
   "pygments_lexer": "ipython3",
   "version": "3.11.4"
  }
 },
 "nbformat": 4,
 "nbformat_minor": 5
}
